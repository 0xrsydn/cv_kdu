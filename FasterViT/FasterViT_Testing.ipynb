{
  "nbformat": 4,
  "nbformat_minor": 0,
  "metadata": {
    "colab": {
      "provenance": [],
      "authorship_tag": "ABX9TyNFkSpuiCJxj3Oh8ONTygYU",
      "include_colab_link": true
    },
    "kernelspec": {
      "name": "python3",
      "display_name": "Python 3"
    },
    "language_info": {
      "name": "python"
    }
  },
  "cells": [
    {
      "cell_type": "markdown",
      "metadata": {
        "id": "view-in-github",
        "colab_type": "text"
      },
      "source": [
        "<a href=\"https://colab.research.google.com/github/rsydn9/cvkdu_dg/blob/main/FasterViT_Testing.ipynb\" target=\"_parent\"><img src=\"https://colab.research.google.com/assets/colab-badge.svg\" alt=\"Open In Colab\"/></a>"
      ]
    },
    {
      "cell_type": "markdown",
      "source": [
        "# **FasterViT Testing on Google Colab**"
      ],
      "metadata": {
        "id": "7tOL3ko51KJ9"
      }
    },
    {
      "cell_type": "code",
      "execution_count": 1,
      "metadata": {
        "id": "Ck5fGuGsHb5N",
        "colab": {
          "base_uri": "https://localhost:8080/"
        },
        "outputId": "ed933077-946f-4f58-a2f0-9d726253ea2f"
      },
      "outputs": [
        {
          "output_type": "stream",
          "name": "stdout",
          "text": [
            "Collecting fastervit\n",
            "  Downloading fastervit-0.9.8-py3-none-any.whl (165 kB)\n",
            "\u001b[?25l     \u001b[90m━━━━━━━━━━━━━━━━━━━━━━━━━━━━━━━━━━━━━━━━\u001b[0m \u001b[32m0.0/165.7 kB\u001b[0m \u001b[31m?\u001b[0m eta \u001b[36m-:--:--\u001b[0m\r\u001b[2K     \u001b[91m━━━━━━━━━━━━━━━━━━━━━━━━━━━━━━━━━━━━━━━\u001b[0m\u001b[91m╸\u001b[0m \u001b[32m163.8/165.7 kB\u001b[0m \u001b[31m5.6 MB/s\u001b[0m eta \u001b[36m0:00:01\u001b[0m\r\u001b[2K     \u001b[90m━━━━━━━━━━━━━━━━━━━━━━━━━━━━━━━━━━━━━━━━\u001b[0m \u001b[32m165.7/165.7 kB\u001b[0m \u001b[31m4.4 MB/s\u001b[0m eta \u001b[36m0:00:00\u001b[0m\n",
            "\u001b[?25hCollecting timm>=0.6.12 (from fastervit)\n",
            "  Downloading timm-0.9.12-py3-none-any.whl (2.2 MB)\n",
            "\u001b[?25l     \u001b[90m━━━━━━━━━━━━━━━━━━━━━━━━━━━━━━━━━━━━━━━━\u001b[0m \u001b[32m0.0/2.2 MB\u001b[0m \u001b[31m?\u001b[0m eta \u001b[36m-:--:--\u001b[0m\r\u001b[2K     \u001b[90m━━━━━━━━━━━━━━━━━━━━━━━━━━━━━━━━━━━━━━━━\u001b[0m \u001b[32m2.2/2.2 MB\u001b[0m \u001b[31m70.1 MB/s\u001b[0m eta \u001b[36m0:00:00\u001b[0m\n",
            "\u001b[?25hRequirement already satisfied: torchvision in /usr/local/lib/python3.10/dist-packages (from fastervit) (0.16.0+cu121)\n",
            "Requirement already satisfied: pyyaml in /usr/local/lib/python3.10/dist-packages (from fastervit) (6.0.1)\n",
            "Requirement already satisfied: torch>=1.7 in /usr/local/lib/python3.10/dist-packages (from timm>=0.6.12->fastervit) (2.1.0+cu121)\n",
            "Requirement already satisfied: huggingface-hub in /usr/local/lib/python3.10/dist-packages (from timm>=0.6.12->fastervit) (0.20.3)\n",
            "Requirement already satisfied: safetensors in /usr/local/lib/python3.10/dist-packages (from timm>=0.6.12->fastervit) (0.4.2)\n",
            "Requirement already satisfied: numpy in /usr/local/lib/python3.10/dist-packages (from torchvision->fastervit) (1.25.2)\n",
            "Requirement already satisfied: requests in /usr/local/lib/python3.10/dist-packages (from torchvision->fastervit) (2.31.0)\n",
            "Requirement already satisfied: pillow!=8.3.*,>=5.3.0 in /usr/local/lib/python3.10/dist-packages (from torchvision->fastervit) (9.4.0)\n",
            "Requirement already satisfied: filelock in /usr/local/lib/python3.10/dist-packages (from torch>=1.7->timm>=0.6.12->fastervit) (3.13.1)\n",
            "Requirement already satisfied: typing-extensions in /usr/local/lib/python3.10/dist-packages (from torch>=1.7->timm>=0.6.12->fastervit) (4.9.0)\n",
            "Requirement already satisfied: sympy in /usr/local/lib/python3.10/dist-packages (from torch>=1.7->timm>=0.6.12->fastervit) (1.12)\n",
            "Requirement already satisfied: networkx in /usr/local/lib/python3.10/dist-packages (from torch>=1.7->timm>=0.6.12->fastervit) (3.2.1)\n",
            "Requirement already satisfied: jinja2 in /usr/local/lib/python3.10/dist-packages (from torch>=1.7->timm>=0.6.12->fastervit) (3.1.3)\n",
            "Requirement already satisfied: fsspec in /usr/local/lib/python3.10/dist-packages (from torch>=1.7->timm>=0.6.12->fastervit) (2023.6.0)\n",
            "Requirement already satisfied: triton==2.1.0 in /usr/local/lib/python3.10/dist-packages (from torch>=1.7->timm>=0.6.12->fastervit) (2.1.0)\n",
            "Requirement already satisfied: tqdm>=4.42.1 in /usr/local/lib/python3.10/dist-packages (from huggingface-hub->timm>=0.6.12->fastervit) (4.66.2)\n",
            "Requirement already satisfied: packaging>=20.9 in /usr/local/lib/python3.10/dist-packages (from huggingface-hub->timm>=0.6.12->fastervit) (23.2)\n",
            "Requirement already satisfied: charset-normalizer<4,>=2 in /usr/local/lib/python3.10/dist-packages (from requests->torchvision->fastervit) (3.3.2)\n",
            "Requirement already satisfied: idna<4,>=2.5 in /usr/local/lib/python3.10/dist-packages (from requests->torchvision->fastervit) (3.6)\n",
            "Requirement already satisfied: urllib3<3,>=1.21.1 in /usr/local/lib/python3.10/dist-packages (from requests->torchvision->fastervit) (2.0.7)\n",
            "Requirement already satisfied: certifi>=2017.4.17 in /usr/local/lib/python3.10/dist-packages (from requests->torchvision->fastervit) (2024.2.2)\n",
            "Requirement already satisfied: MarkupSafe>=2.0 in /usr/local/lib/python3.10/dist-packages (from jinja2->torch>=1.7->timm>=0.6.12->fastervit) (2.1.5)\n",
            "Requirement already satisfied: mpmath>=0.19 in /usr/local/lib/python3.10/dist-packages (from sympy->torch>=1.7->timm>=0.6.12->fastervit) (1.3.0)\n",
            "Installing collected packages: timm, fastervit\n",
            "Successfully installed fastervit-0.9.8 timm-0.9.12\n"
          ]
        }
      ],
      "source": [
        "!pip install fastervit"
      ]
    },
    {
      "cell_type": "code",
      "source": [
        "from fastervit import create_model\n",
        "\n",
        "# Define fastervit-0 model with 224 x 224 resolution\n",
        "\n",
        "model = create_model('faster_vit_0_224',\n",
        "                          pretrained=True,\n",
        "                          model_path=\"/tmp/faster_vit_0.pth.tar\")"
      ],
      "metadata": {
        "colab": {
          "base_uri": "https://localhost:8080/"
        },
        "id": "0KvssTg403hW",
        "outputId": "a0028c9c-6feb-4a04-b8ad-4a2fc7fef4ca"
      },
      "execution_count": 2,
      "outputs": [
        {
          "output_type": "stream",
          "name": "stderr",
          "text": [
            "/usr/local/lib/python3.10/dist-packages/torch/functional.py:504: UserWarning: torch.meshgrid: in an upcoming release, it will be required to pass the indexing argument. (Triggered internally at ../aten/src/ATen/native/TensorShape.cpp:3526.)\n",
            "  return _VF.meshgrid(tensors, **kwargs)  # type: ignore[attr-defined]\n",
            "100%|██████████| 361M/361M [00:07<00:00, 48.5MB/s]\n"
          ]
        }
      ]
    },
    {
      "cell_type": "code",
      "source": [
        "import torch\n",
        "\n",
        "image = torch.rand(1, 3, 224, 224)\n",
        "output = model(image) # torch.Size([1, 1000])\n",
        "\n",
        "print(output.shape)\n",
        "print(output[:5])"
      ],
      "metadata": {
        "colab": {
          "base_uri": "https://localhost:8080/"
        },
        "id": "u0D92dbe1JJU",
        "outputId": "30ac223a-d258-4df6-8c1b-09d0ba38a843"
      },
      "execution_count": 6,
      "outputs": [
        {
          "output_type": "stream",
          "name": "stdout",
          "text": [
            "torch.Size([1, 1000])\n",
            "tensor([[-1.1869e-01, -1.1526e-01, -1.3640e-01, -1.7988e-01, -1.1570e-01,\n",
            "         -3.6265e-02, -7.9698e-02, -1.9672e-02,  1.8230e-04, -9.0264e-02,\n",
            "         -1.3184e-01, -2.0944e-01, -1.0750e-01, -9.1226e-02, -1.7664e-01,\n",
            "         -1.1667e-01, -1.3956e-01, -1.0913e-01, -2.0881e-02, -1.4280e-01,\n",
            "         -1.3638e-01, -6.9918e-02, -1.3311e-01,  2.5677e-02, -1.9758e-01,\n",
            "         -2.1571e-01, -2.7510e-02, -1.4665e-01, -1.4956e-01, -4.8368e-02,\n",
            "         -1.2964e-01, -1.3088e-01, -4.0386e-02, -5.1428e-02, -7.3252e-03,\n",
            "         -7.3013e-02,  7.8420e-02, -1.6444e-01, -3.4439e-02, -1.4796e-02,\n",
            "         -9.9271e-02, -1.0739e-01, -1.0718e-01, -7.7638e-02, -3.8434e-02,\n",
            "         -1.6155e-01, -5.0464e-02, -8.0724e-02, -1.7237e-01, -1.6113e-01,\n",
            "         -7.8576e-02,  2.8067e-02, -2.2773e-02, -6.4582e-02, -7.6747e-02,\n",
            "         -1.7235e-01, -1.5035e-01, -2.2272e-01, -1.8674e-02, -3.9179e-02,\n",
            "          9.8881e-02, -2.0589e-02, -7.1632e-02,  4.1042e-03, -8.5317e-02,\n",
            "         -5.4134e-02, -8.3685e-02, -1.6127e-01, -1.4467e-01, -1.1663e-01,\n",
            "         -1.4366e-01, -1.1111e-02, -2.5339e-01, -2.3028e-02, -1.7430e-01,\n",
            "         -9.9532e-02, -3.6417e-02, -4.8810e-02,  3.9357e-02, -2.0421e-03,\n",
            "         -7.4671e-02, -1.1810e-01, -3.0694e-02, -2.1309e-01, -1.4172e-01,\n",
            "         -4.2543e-02, -3.0981e-02,  4.3217e-03, -9.4551e-02, -7.8666e-02,\n",
            "         -1.8576e-01, -1.2499e-01, -1.8501e-01, -4.9457e-02, -5.1791e-02,\n",
            "         -2.5554e-01, -9.3505e-02, -1.4284e-01, -2.4477e-01, -3.4289e-02,\n",
            "         -1.6144e-01, -9.3252e-02, -1.9493e-01,  4.3493e-02,  3.8860e-02,\n",
            "         -1.7692e-01, -2.2120e-03, -1.5476e-01, -2.1768e-01, -2.6309e-01,\n",
            "         -2.1611e-01, -6.4065e-02,  1.7235e-01,  5.8194e-02,  5.4574e-02,\n",
            "         -2.3171e-01, -1.6146e-01, -9.2826e-02,  5.4135e-04, -5.3094e-02,\n",
            "         -1.1899e-01, -6.5379e-02, -3.2162e-02, -1.2329e-01,  1.2366e-01,\n",
            "         -1.3011e-02,  3.7309e-02, -1.6248e-01, -6.0017e-02, -1.2225e-01,\n",
            "         -2.1848e-01, -1.4157e-01, -1.0264e-01, -1.6494e-01, -5.4205e-02,\n",
            "         -1.7933e-01, -1.2888e-01, -1.8418e-01, -1.6992e-01, -2.2533e-01,\n",
            "         -2.2648e-01, -1.9884e-01, -2.4758e-01, -1.6100e-01, -9.3717e-02,\n",
            "         -8.8371e-02, -9.8382e-02, -2.1824e-01, -1.4093e-01, -1.5575e-01,\n",
            "          7.9901e-02,  2.7854e-01, -2.1931e-01, -4.3584e-02,  3.7055e-02,\n",
            "          3.5552e-02, -2.6668e-02,  5.8372e-03, -4.0997e-02,  3.2597e-02,\n",
            "          5.0023e-02,  9.6573e-02,  8.2094e-02,  1.4532e-01,  3.5727e-02,\n",
            "         -1.7543e-01, -3.3764e-02, -2.0415e-01,  1.1478e-01,  6.3222e-02,\n",
            "          9.7104e-02,  1.9935e-01,  9.9970e-02,  8.5168e-02,  6.8040e-02,\n",
            "         -1.9727e-01,  8.0754e-02,  1.4230e-02,  1.1357e-01,  8.1903e-02,\n",
            "          9.8057e-02,  2.4517e-02,  8.0938e-02, -1.3148e-03,  1.5001e-01,\n",
            "          7.6777e-02,  9.5927e-02, -1.1400e-02, -2.2531e-02,  1.2997e-01,\n",
            "         -1.4326e-01,  9.5038e-02,  8.1991e-02,  3.5108e-02, -8.0841e-02,\n",
            "          1.1617e-01,  2.9745e-02,  9.1108e-02,  2.1849e-02,  1.0699e-01,\n",
            "          1.5708e-02, -6.0448e-02,  9.9346e-02,  8.8365e-02,  3.4507e-02,\n",
            "          4.0801e-02, -1.3939e-02,  7.3190e-02,  2.0825e-01,  1.7465e-01,\n",
            "          2.3044e-03,  7.3759e-02,  1.1871e-01, -1.5582e-02,  3.5069e-02,\n",
            "          6.1760e-02,  2.1706e-02,  8.5689e-02,  4.7936e-03,  9.1091e-02,\n",
            "          6.8283e-02, -1.3227e-01,  4.5880e-02,  1.6211e-01,  2.6549e-02,\n",
            "          8.8813e-02,  5.6737e-02,  1.7148e-01, -5.9980e-02,  4.9332e-02,\n",
            "          2.5459e-02,  8.0672e-02,  5.8581e-02,  2.2950e-02,  8.7256e-02,\n",
            "          1.0808e-01,  1.0694e-01,  1.0770e-01,  1.3435e-01,  4.8048e-02,\n",
            "          6.8432e-02,  3.7362e-02,  1.1062e-01,  4.5679e-02, -5.2550e-04,\n",
            "          1.0903e-01,  1.1161e-01,  4.1261e-02,  1.0652e-01,  9.2203e-02,\n",
            "          1.2592e-01,  4.5725e-02, -1.6672e-01,  1.1329e-01,  1.2563e-01,\n",
            "         -2.7311e-02,  1.1377e-01,  9.0303e-02,  4.5862e-02,  1.1840e-02,\n",
            "          1.9684e-03, -6.2906e-02, -4.7576e-02,  7.4326e-02,  1.6037e-01,\n",
            "          1.3779e-01,  9.1478e-02,  1.4419e-01, -1.4180e-01, -2.8343e-02,\n",
            "         -3.1163e-02, -6.0176e-02, -4.8817e-03,  1.4281e-01, -5.2959e-02,\n",
            "         -1.0903e-01, -8.2220e-02, -6.0610e-02, -1.0613e-01, -3.7187e-03,\n",
            "         -1.0672e-03,  1.2583e-02,  3.7320e-02, -4.3971e-02,  4.3922e-02,\n",
            "          7.9583e-02, -8.4991e-03, -2.5961e-02, -1.7905e-01, -2.3391e-01,\n",
            "         -2.2120e-01, -1.0984e-01, -1.4729e-01, -1.8416e-01, -7.9008e-02,\n",
            "         -4.5962e-02, -5.3937e-02, -9.8458e-02, -1.6214e-02, -6.6902e-02,\n",
            "         -2.2998e-01, -9.0747e-02, -7.1383e-02, -2.3611e-02, -1.5328e-01,\n",
            "         -9.9466e-02,  2.2286e-02, -1.2964e-01, -1.3383e-01, -1.3712e-01,\n",
            "          7.4217e-02, -7.1638e-02, -3.2657e-02,  3.0208e-02,  1.2319e-01,\n",
            "         -7.6709e-02, -8.4299e-02, -1.5702e-01, -9.5886e-02, -1.2291e-01,\n",
            "         -2.1926e-01, -2.4542e-01, -2.2292e-01, -3.1958e-01, -2.1866e-01,\n",
            "         -2.3885e-01, -2.1578e-01, -6.6916e-02, -1.6810e-01, -1.3567e-01,\n",
            "         -2.3822e-02, -5.1324e-03, -8.1250e-03, -3.6416e-02, -6.9151e-02,\n",
            "         -7.2278e-02, -7.9834e-02,  2.1795e-02,  2.4936e-02, -1.7756e-01,\n",
            "         -2.1815e-01,  1.5082e-01, -2.7797e-02, -1.1929e-01, -6.4906e-02,\n",
            "          1.1256e-01, -2.1297e-02, -1.0691e-01, -1.9242e-02, -8.4505e-02,\n",
            "         -6.8118e-02, -1.9221e-01, -1.6464e-01, -7.1828e-02,  2.4717e-03,\n",
            "          8.4460e-02,  2.3565e-01,  6.0263e-02,  8.6464e-02,  7.1349e-02,\n",
            "         -2.4084e-02,  8.0608e-02,  2.4942e-03, -4.2478e-02, -7.9348e-02,\n",
            "         -8.2917e-02, -1.2988e-01, -1.2471e-02, -6.7048e-02, -5.2454e-02,\n",
            "         -2.4008e-02,  6.6829e-02, -1.3549e-02,  4.1978e-02, -1.6245e-03,\n",
            "         -9.5339e-02, -1.5729e-01,  2.4349e-02, -5.6703e-02, -1.1412e-01,\n",
            "          8.9423e-02,  1.2728e-02, -3.3078e-02, -7.4890e-02, -1.4114e-01,\n",
            "         -6.1002e-02, -1.4714e-01, -1.5182e-01, -1.7613e-01, -5.6745e-02,\n",
            "         -3.3577e-02,  7.6644e-03, -3.1515e-01, -3.0512e-01, -1.8636e-03,\n",
            "          6.5412e-02, -2.6993e-01, -1.2359e-01,  3.2149e-02,  6.4012e-02,\n",
            "         -9.0052e-02,  1.2916e-01,  1.3149e-02, -2.0029e-01, -2.0621e-01,\n",
            "         -2.4700e-02, -1.3366e-01, -1.3965e-01, -2.7397e-02,  1.5453e-01,\n",
            "         -6.0630e-02,  6.9142e-03,  3.5289e-01,  1.2696e-01,  6.3705e-02,\n",
            "          8.3206e-02, -4.7188e-02, -1.6333e-02,  5.2895e-02,  2.6498e-01,\n",
            "          1.5507e-01,  1.9141e-01,  2.4934e-02,  5.2926e-02,  2.8842e-02,\n",
            "         -1.5351e-01, -7.4874e-02,  1.8860e-01,  2.1951e-01,  1.1906e-02,\n",
            "         -1.4999e-01,  7.7320e-03,  8.3642e-02,  8.8708e-02,  9.7157e-02,\n",
            "          1.7131e-01, -1.2348e-01, -4.1821e-02,  8.3922e-02, -1.1113e-02,\n",
            "          8.5226e-02,  4.7145e-02, -5.6998e-02, -3.8408e-02, -1.2044e-01,\n",
            "         -2.3589e-02,  8.7385e-02,  2.5706e-01,  1.5729e-01, -9.8544e-02,\n",
            "         -9.7660e-03,  4.1708e-02,  1.0216e-01, -1.4032e-01, -1.1698e-01,\n",
            "          3.4324e-02,  2.4497e-01,  2.4233e-01, -1.2706e-01,  9.5057e-02,\n",
            "         -6.4261e-02,  1.2970e-01,  1.8543e-01,  4.0443e-01,  1.7815e-01,\n",
            "         -3.4511e-02, -2.0645e-01, -1.3421e-01, -4.1941e-02,  2.3955e-01,\n",
            "          2.0048e-01,  1.1927e-01, -4.0875e-02,  2.1578e-01, -6.0218e-02,\n",
            "          2.5171e-02, -1.3725e-01,  1.8402e-02,  1.0398e-01, -4.4153e-02,\n",
            "          2.2177e-02, -1.5308e-03,  5.3445e-02, -1.7582e-01, -1.7739e-01,\n",
            "         -8.8833e-04, -2.2803e-02,  2.0109e-01,  1.5124e-01, -1.5232e-02,\n",
            "         -2.4072e-02,  1.3140e-01,  8.2821e-02, -1.9335e-01,  2.1771e-01,\n",
            "         -1.8567e-01, -3.5973e-02, -9.2037e-02, -6.9777e-02,  2.1735e-01,\n",
            "         -2.1348e-01,  5.9265e-02,  1.7802e-01,  4.0959e-02,  1.3224e-01,\n",
            "          1.3047e-01,  4.3011e-02,  8.5761e-02, -3.6745e-03, -1.2881e-01,\n",
            "         -1.8834e-01, -1.5557e-01,  1.2308e-01,  8.9586e-02,  1.7801e-01,\n",
            "          3.1941e-01,  1.1981e-01, -7.1843e-03,  1.8519e-01,  9.4570e-02,\n",
            "         -1.1511e-01,  2.6647e-02,  6.5326e-02,  3.3208e-01,  2.2876e-02,\n",
            "         -7.2686e-02,  4.5703e-02, -6.1701e-02,  3.4364e-02,  8.8904e-02,\n",
            "          1.0366e-01, -9.5260e-02, -1.9660e-02, -2.8993e-01,  7.2876e-02,\n",
            "         -1.3874e-01, -1.3160e-01, -1.3990e-01, -7.2191e-02,  1.1703e-01,\n",
            "         -1.6818e-01,  2.1596e-01,  2.3575e-01,  2.1362e-01,  5.1562e-02,\n",
            "          9.7816e-02,  6.0559e-02, -2.7686e-01, -2.2531e-01, -2.9413e-02,\n",
            "         -8.9939e-02,  3.2490e-02,  4.3301e-02,  3.5452e-03, -1.4542e-01,\n",
            "         -1.6601e-01,  2.9782e-02,  1.2462e-02,  2.2881e-01,  1.3357e-01,\n",
            "         -2.7538e-02, -3.0769e-02,  8.0288e-02, -1.8256e-03, -1.2772e-01,\n",
            "         -1.3200e-01, -5.2323e-03,  7.8755e-02,  1.2485e-01, -8.0630e-02,\n",
            "          2.0953e-01, -9.2931e-03,  1.4163e-01, -1.2603e-01,  4.7585e-02,\n",
            "         -2.3741e-02, -1.7228e-01,  1.8841e-01,  2.3241e-02,  3.0935e-02,\n",
            "         -7.0690e-02, -1.0060e-01, -2.9851e-02,  1.0579e-01,  1.1979e-01,\n",
            "          1.0346e-01, -1.1727e-01,  3.3825e-01,  2.8670e-02,  2.4600e-01,\n",
            "         -1.4165e-01,  5.1780e-02, -6.3688e-02,  2.0687e-01,  2.2503e-02,\n",
            "         -1.0935e-01,  1.2655e-01, -8.0757e-05, -8.6297e-02, -4.6819e-02,\n",
            "          4.2464e-01,  5.0288e-02,  5.4821e-03, -7.7279e-02,  1.0414e-01,\n",
            "          5.8078e-02,  2.6226e-01, -1.5147e-01,  8.0208e-02, -6.8161e-02,\n",
            "          9.2252e-02, -4.8797e-02, -9.8163e-02,  1.6826e-01,  6.7572e-03,\n",
            "          1.4155e-01,  1.3151e-01,  7.0895e-02,  3.4913e-01,  1.8086e-01,\n",
            "          2.1118e-01,  7.4714e-02,  4.1896e-02, -1.3956e-02, -1.1425e-01,\n",
            "         -1.7310e-01,  2.4012e-01, -4.1915e-02, -1.8648e-01,  6.4526e-02,\n",
            "         -6.6722e-03,  1.1207e-01,  1.3110e-01,  1.9131e-01, -9.1005e-03,\n",
            "         -5.7750e-02,  1.8729e-01,  9.6379e-02,  7.1806e-02, -3.0365e-02,\n",
            "         -2.8809e-01,  2.4750e-01,  4.2425e-02,  2.1399e-01,  9.7765e-02,\n",
            "         -1.7172e-01,  1.4211e-02,  5.6099e-02, -9.7821e-02, -1.2727e-01,\n",
            "          2.4236e-01, -2.4318e-02,  1.0390e-01,  1.0428e-01, -7.4974e-02,\n",
            "          1.3603e-01, -4.6044e-02,  8.2942e-02, -1.2437e-01,  6.1543e-02,\n",
            "         -4.6530e-02, -1.7878e-01,  2.8812e-02, -1.5677e-01,  6.0976e-02,\n",
            "         -2.9114e-02,  2.1642e-01,  5.5317e-02, -1.8548e-01, -5.0440e-02,\n",
            "          3.4033e-04, -6.7646e-02, -1.0091e-02,  2.0028e-01,  2.3649e-01,\n",
            "         -8.4173e-02,  2.4530e-01,  1.6400e-01,  2.1288e-01, -7.3681e-02,\n",
            "          1.6703e-01,  1.0163e-01, -1.1311e-01,  1.4136e-01,  1.1248e-01,\n",
            "         -2.6571e-01, -3.8404e-02, -2.3086e-01, -9.7263e-02, -1.2516e-01,\n",
            "         -1.1495e-01,  1.7823e-01,  1.0286e-01,  6.0753e-02, -1.5779e-01,\n",
            "          1.0477e-01,  3.0493e-01, -1.2503e-02, -1.7315e-01,  7.7681e-02,\n",
            "          3.5822e-01, -3.2567e-02,  1.7845e-02,  6.3793e-02,  1.1048e-01,\n",
            "         -2.9380e-02, -7.5434e-02,  3.5610e-02,  1.4054e-01, -3.6231e-02,\n",
            "          2.0145e-01,  1.6971e-01, -1.0277e-01, -3.9438e-02,  7.3685e-02,\n",
            "         -1.0105e-01,  3.3360e-02, -1.6474e-01, -4.7880e-02,  1.0094e-01,\n",
            "          1.0659e-01, -2.6136e-02,  2.1720e-01, -4.9526e-02, -2.0045e-01,\n",
            "          1.6288e-01, -1.7596e-02, -6.4054e-02,  2.1181e-01, -9.3728e-02,\n",
            "          5.6551e-03,  4.3475e-01, -7.0059e-02,  3.4462e-01, -2.1571e-01,\n",
            "         -1.8448e-02, -1.4899e-03,  8.8620e-02,  8.0745e-02,  7.7115e-02,\n",
            "          7.4528e-02, -1.4328e-01,  6.5340e-02,  2.5736e-02,  1.7435e-01,\n",
            "          1.1604e-01, -4.7438e-02,  2.1131e-01,  7.4343e-02,  2.8406e-01,\n",
            "          4.4167e-02, -8.1531e-02,  2.1995e-02,  7.1260e-02,  1.2603e-01,\n",
            "         -1.3824e-01,  9.4190e-02, -8.2306e-02,  2.1651e-01, -8.2127e-02,\n",
            "          3.0762e-02,  1.1644e-01,  4.4421e-02,  1.2436e-01,  2.4045e-01,\n",
            "          9.5309e-02,  1.7197e-02,  8.4326e-02, -1.3962e-01,  1.6433e-01,\n",
            "         -1.1969e-03, -2.8169e-02,  2.1262e-01,  1.3183e-01,  7.7991e-02,\n",
            "          9.2103e-02,  6.9003e-02,  9.1713e-02,  2.4609e-01, -1.5940e-01,\n",
            "         -1.7299e-01, -1.7579e-01,  1.1374e-01,  1.1428e-01,  2.9720e-01,\n",
            "          6.4666e-02,  1.5066e-01,  1.3692e-01,  2.6105e-02, -1.2940e-01,\n",
            "          1.6443e-02,  1.1293e-01,  3.2158e-01,  1.5859e-01,  3.5962e-02,\n",
            "          1.4500e-02,  1.7418e-01,  1.3158e-01, -1.5636e-01,  6.5148e-02,\n",
            "         -1.6081e-01, -2.0061e-02, -1.3731e-01, -9.2403e-02,  2.2312e-01,\n",
            "          2.3053e-01, -3.7498e-02,  4.9084e-02,  1.7888e-01, -2.4048e-02,\n",
            "         -1.5118e-01,  9.5262e-02, -3.9299e-02,  4.0343e-01, -1.3205e-01,\n",
            "         -1.5983e-01,  4.0458e-02, -1.6565e-01,  3.1123e-01,  1.2513e-02,\n",
            "         -1.9187e-01, -1.6562e-01,  8.1994e-02,  1.7659e-01,  9.8548e-02,\n",
            "         -1.4970e-01, -3.4293e-02,  1.2678e-01,  2.1034e-01, -1.5311e-01,\n",
            "          2.1583e-01,  7.8759e-02, -1.1828e-01, -5.8236e-02,  4.7706e-02,\n",
            "          5.3296e-02,  2.5851e-01,  3.1634e-01,  1.6565e-01, -1.0326e-01,\n",
            "          2.7258e-01, -5.3755e-03,  8.0195e-02,  8.2845e-02,  1.3962e-01,\n",
            "          3.2408e-01,  1.3957e-01, -1.2254e-01,  7.0481e-02,  1.0275e-01,\n",
            "          1.3316e-01,  2.3334e-01,  3.0102e-01, -8.7311e-02, -1.3266e-01,\n",
            "          1.2604e-01, -8.3341e-02, -1.6432e-01, -1.0053e-01,  1.9372e-01,\n",
            "         -7.6931e-02,  1.5781e-01,  1.1127e-01, -7.8341e-02, -3.4437e-02,\n",
            "         -9.7150e-02, -3.4025e-02, -6.0536e-02,  2.3280e-01, -7.3812e-02,\n",
            "          1.1027e-01, -1.3508e-01,  1.7368e-01, -2.0541e-01, -3.0120e-01,\n",
            "          8.4102e-02,  2.6738e-01, -1.2924e-03, -1.3354e-01,  2.7550e-01,\n",
            "          1.8439e-01, -2.5497e-02,  2.6129e-01,  1.7380e-01, -6.5651e-02,\n",
            "          4.2771e-02, -1.6449e-01, -3.2317e-02, -1.6632e-01,  1.1164e-01,\n",
            "         -1.3945e-01,  5.2616e-03,  1.3290e-01, -2.2954e-03, -6.1147e-02,\n",
            "         -1.2854e-01,  1.4407e-01,  6.6051e-02,  3.6051e-01,  3.5849e-01,\n",
            "         -1.5987e-01, -9.7848e-02,  2.5247e-01,  1.0611e-01, -5.2061e-02,\n",
            "         -1.6890e-02, -2.3969e-02,  1.4778e-01, -1.0709e-01,  9.6391e-02,\n",
            "          2.8716e-01,  7.3706e-02,  6.4097e-02,  9.2779e-03, -2.1750e-01,\n",
            "         -3.8973e-02, -1.9105e-01, -5.9070e-02, -1.9254e-02, -1.0557e-02,\n",
            "          3.0591e-02,  7.0701e-02, -1.8185e-01,  3.7142e-02, -1.4866e-01,\n",
            "         -1.4934e-01, -2.1770e-01, -1.0616e-01, -7.5340e-03,  2.3413e-01,\n",
            "         -8.4780e-02, -7.9153e-02, -9.2524e-03, -2.2862e-01, -4.3740e-02,\n",
            "         -1.6615e-01, -9.3298e-02, -1.1531e-01, -1.4903e-01, -7.2946e-02,\n",
            "         -1.2559e-01, -9.0045e-02, -5.6059e-02, -4.2792e-02, -1.9973e-01,\n",
            "         -1.8464e-01, -3.1613e-01,  2.2852e-02, -7.0399e-02, -1.8451e-01,\n",
            "         -1.0286e-01, -1.3166e-01, -9.5819e-02, -1.1441e-01, -9.7818e-03,\n",
            "         -1.4035e-01, -1.1782e-01, -1.9793e-01, -1.2686e-01, -2.6334e-01,\n",
            "         -1.1703e-02,  6.3834e-02, -1.2377e-01, -2.6184e-01, -1.8406e-01,\n",
            "         -7.2160e-02,  8.3237e-02, -8.3254e-02,  1.8347e-01,  3.4052e-02,\n",
            "         -8.9663e-02,  1.8117e-01, -4.2619e-02, -1.3297e-01, -1.8937e-01,\n",
            "          8.1354e-02, -1.5668e-01,  1.1317e-02, -4.5416e-02, -1.5794e-01,\n",
            "         -7.4840e-02, -9.7780e-02,  6.4939e-03, -1.8099e-01, -2.3983e-01,\n",
            "         -2.4852e-01, -3.0644e-01,  9.2635e-02, -3.5296e-02, -1.7478e-01,\n",
            "         -1.0457e-01, -2.2198e-01, -2.8576e-01, -2.3941e-01, -1.4762e-01,\n",
            "         -8.3551e-02, -6.0041e-02, -1.0481e-01,  5.0866e-02,  2.3430e-01]],\n",
            "       grad_fn=<SliceBackward0>)\n"
          ]
        }
      ]
    },
    {
      "cell_type": "code",
      "source": [
        "pred = output.argmax(dim=1)\n",
        "print(f\"Predicted class: {pred}\")"
      ],
      "metadata": {
        "colab": {
          "base_uri": "https://localhost:8080/"
        },
        "id": "Ly4yZlZ714Yq",
        "outputId": "7d5c5a0b-996c-4d16-fe49-71590566595a"
      },
      "execution_count": 7,
      "outputs": [
        {
          "output_type": "stream",
          "name": "stdout",
          "text": [
            "Predicted class: tensor([731])\n"
          ]
        }
      ]
    },
    {
      "cell_type": "code",
      "source": [
        "import matplotlib.pyplot as plt\n",
        "\n",
        "# Detach output from graph to convert to numpy\n",
        "output = output.detach()\n",
        "\n",
        "# Plot detached output\n",
        "plt.bar(torch.arange(len(output[0])), output[0])\n",
        "plt.title(\"Output Values\")\n",
        "plt.show()"
      ],
      "metadata": {
        "colab": {
          "base_uri": "https://localhost:8080/",
          "height": 452
        },
        "id": "t4-VsZr318ho",
        "outputId": "4ef30858-04fa-4b06-f870-544c60d31e12"
      },
      "execution_count": 9,
      "outputs": [
        {
          "output_type": "display_data",
          "data": {
            "text/plain": [
              "<Figure size 640x480 with 1 Axes>"
            ],
            "image/png": "[encoded data removed]"
          },
          "metadata": {}
        }
      ]
    },
    {
      "cell_type": "code",
      "source": [
        "from fastervit import create_model\n",
        "\n",
        "# Define any-resolution FasterViT-0 model with 512 x 512 resolution\n",
        "model = create_model('faster_vit_0_any_res',\n",
        "                     resolution=[512, 512],\n",
        "                     window_size=[7, 7, 12, 6],\n",
        "                     ct_size=2,\n",
        "                     dim=64,\n",
        "                     pretrained=True)"
      ],
      "metadata": {
        "colab": {
          "base_uri": "https://localhost:8080/"
        },
        "id": "u7q6SIKw2cAl",
        "outputId": "a59ece32-8e2f-471a-f455-7ecc4a75fe19"
      },
      "execution_count": 14,
      "outputs": [
        {
          "output_type": "stream",
          "name": "stdout",
          "text": [
            "The model and loaded state dict do not match exactly\n",
            "\n",
            "size mismatch for levels.2.blocks.0.pos_embed.relative_bias: copying a param with shape torch.Size([1, 49, 256]) from checkpoint, the shape in current model is torch.Size([1, 144, 256]).\n",
            "size mismatch for levels.2.blocks.0.attn.pos_emb_funct.relative_coords_table: copying a param with shape torch.Size([1, 13, 13, 2]) from checkpoint, the shape in current model is torch.Size([1, 23, 23, 2]).\n",
            "size mismatch for levels.2.blocks.0.attn.pos_emb_funct.relative_position_index: copying a param with shape torch.Size([49, 49]) from checkpoint, the shape in current model is torch.Size([144, 144]).\n",
            "size mismatch for levels.2.blocks.0.attn.pos_emb_funct.relative_bias: copying a param with shape torch.Size([1, 8, 53, 53]) from checkpoint, the shape in current model is torch.Size([1, 8, 148, 148]).\n",
            "size mismatch for levels.2.blocks.0.hat_attn.pos_emb_funct.relative_coords_table: copying a param with shape torch.Size([1, 7, 7, 2]) from checkpoint, the shape in current model is torch.Size([1, 11, 11, 2]).\n",
            "size mismatch for levels.2.blocks.0.hat_attn.pos_emb_funct.relative_position_index: copying a param with shape torch.Size([16, 16]) from checkpoint, the shape in current model is torch.Size([36, 36]).\n",
            "size mismatch for levels.2.blocks.0.hat_attn.pos_emb_funct.relative_bias: copying a param with shape torch.Size([1, 8, 16, 16]) from checkpoint, the shape in current model is torch.Size([1, 8, 36, 36]).\n",
            "size mismatch for levels.2.blocks.0.hat_pos_embed.relative_bias: copying a param with shape torch.Size([1, 16, 256]) from checkpoint, the shape in current model is torch.Size([1, 36, 256]).\n",
            "size mismatch for levels.2.blocks.1.pos_embed.relative_bias: copying a param with shape torch.Size([1, 49, 256]) from checkpoint, the shape in current model is torch.Size([1, 144, 256]).\n",
            "size mismatch for levels.2.blocks.1.attn.pos_emb_funct.relative_coords_table: copying a param with shape torch.Size([1, 13, 13, 2]) from checkpoint, the shape in current model is torch.Size([1, 23, 23, 2]).\n",
            "size mismatch for levels.2.blocks.1.attn.pos_emb_funct.relative_position_index: copying a param with shape torch.Size([49, 49]) from checkpoint, the shape in current model is torch.Size([144, 144]).\n",
            "size mismatch for levels.2.blocks.1.attn.pos_emb_funct.relative_bias: copying a param with shape torch.Size([1, 8, 53, 53]) from checkpoint, the shape in current model is torch.Size([1, 8, 148, 148]).\n",
            "size mismatch for levels.2.blocks.1.hat_attn.pos_emb_funct.relative_coords_table: copying a param with shape torch.Size([1, 7, 7, 2]) from checkpoint, the shape in current model is torch.Size([1, 11, 11, 2]).\n",
            "size mismatch for levels.2.blocks.1.hat_attn.pos_emb_funct.relative_position_index: copying a param with shape torch.Size([16, 16]) from checkpoint, the shape in current model is torch.Size([36, 36]).\n",
            "size mismatch for levels.2.blocks.1.hat_attn.pos_emb_funct.relative_bias: copying a param with shape torch.Size([1, 8, 16, 16]) from checkpoint, the shape in current model is torch.Size([1, 8, 36, 36]).\n",
            "size mismatch for levels.2.blocks.1.hat_pos_embed.relative_bias: copying a param with shape torch.Size([1, 16, 256]) from checkpoint, the shape in current model is torch.Size([1, 36, 256]).\n",
            "size mismatch for levels.2.blocks.2.pos_embed.relative_bias: copying a param with shape torch.Size([1, 49, 256]) from checkpoint, the shape in current model is torch.Size([1, 144, 256]).\n",
            "size mismatch for levels.2.blocks.2.attn.pos_emb_funct.relative_coords_table: copying a param with shape torch.Size([1, 13, 13, 2]) from checkpoint, the shape in current model is torch.Size([1, 23, 23, 2]).\n",
            "size mismatch for levels.2.blocks.2.attn.pos_emb_funct.relative_position_index: copying a param with shape torch.Size([49, 49]) from checkpoint, the shape in current model is torch.Size([144, 144]).\n",
            "size mismatch for levels.2.blocks.2.attn.pos_emb_funct.relative_bias: copying a param with shape torch.Size([1, 8, 53, 53]) from checkpoint, the shape in current model is torch.Size([1, 8, 148, 148]).\n",
            "size mismatch for levels.2.blocks.2.hat_attn.pos_emb_funct.relative_coords_table: copying a param with shape torch.Size([1, 7, 7, 2]) from checkpoint, the shape in current model is torch.Size([1, 11, 11, 2]).\n",
            "size mismatch for levels.2.blocks.2.hat_attn.pos_emb_funct.relative_position_index: copying a param with shape torch.Size([16, 16]) from checkpoint, the shape in current model is torch.Size([36, 36]).\n",
            "size mismatch for levels.2.blocks.2.hat_attn.pos_emb_funct.relative_bias: copying a param with shape torch.Size([1, 8, 16, 16]) from checkpoint, the shape in current model is torch.Size([1, 8, 36, 36]).\n",
            "size mismatch for levels.2.blocks.2.hat_pos_embed.relative_bias: copying a param with shape torch.Size([1, 16, 256]) from checkpoint, the shape in current model is torch.Size([1, 36, 256]).\n",
            "size mismatch for levels.2.blocks.3.pos_embed.relative_bias: copying a param with shape torch.Size([1, 49, 256]) from checkpoint, the shape in current model is torch.Size([1, 144, 256]).\n",
            "size mismatch for levels.2.blocks.3.attn.pos_emb_funct.relative_coords_table: copying a param with shape torch.Size([1, 13, 13, 2]) from checkpoint, the shape in current model is torch.Size([1, 23, 23, 2]).\n",
            "size mismatch for levels.2.blocks.3.attn.pos_emb_funct.relative_position_index: copying a param with shape torch.Size([49, 49]) from checkpoint, the shape in current model is torch.Size([144, 144]).\n",
            "size mismatch for levels.2.blocks.3.attn.pos_emb_funct.relative_bias: copying a param with shape torch.Size([1, 8, 53, 53]) from checkpoint, the shape in current model is torch.Size([1, 8, 148, 148]).\n",
            "size mismatch for levels.2.blocks.3.hat_attn.pos_emb_funct.relative_coords_table: copying a param with shape torch.Size([1, 7, 7, 2]) from checkpoint, the shape in current model is torch.Size([1, 11, 11, 2]).\n",
            "size mismatch for levels.2.blocks.3.hat_attn.pos_emb_funct.relative_position_index: copying a param with shape torch.Size([16, 16]) from checkpoint, the shape in current model is torch.Size([36, 36]).\n",
            "size mismatch for levels.2.blocks.3.hat_attn.pos_emb_funct.relative_bias: copying a param with shape torch.Size([1, 8, 16, 16]) from checkpoint, the shape in current model is torch.Size([1, 8, 36, 36]).\n",
            "size mismatch for levels.2.blocks.3.hat_pos_embed.relative_bias: copying a param with shape torch.Size([1, 16, 256]) from checkpoint, the shape in current model is torch.Size([1, 36, 256]).\n",
            "size mismatch for levels.2.blocks.4.pos_embed.relative_bias: copying a param with shape torch.Size([1, 49, 256]) from checkpoint, the shape in current model is torch.Size([1, 144, 256]).\n",
            "size mismatch for levels.2.blocks.4.attn.pos_emb_funct.relative_coords_table: copying a param with shape torch.Size([1, 13, 13, 2]) from checkpoint, the shape in current model is torch.Size([1, 23, 23, 2]).\n",
            "size mismatch for levels.2.blocks.4.attn.pos_emb_funct.relative_position_index: copying a param with shape torch.Size([49, 49]) from checkpoint, the shape in current model is torch.Size([144, 144]).\n",
            "size mismatch for levels.2.blocks.4.attn.pos_emb_funct.relative_bias: copying a param with shape torch.Size([1, 8, 53, 53]) from checkpoint, the shape in current model is torch.Size([1, 8, 148, 148]).\n",
            "size mismatch for levels.2.blocks.4.hat_attn.pos_emb_funct.relative_coords_table: copying a param with shape torch.Size([1, 7, 7, 2]) from checkpoint, the shape in current model is torch.Size([1, 11, 11, 2]).\n",
            "size mismatch for levels.2.blocks.4.hat_attn.pos_emb_funct.relative_position_index: copying a param with shape torch.Size([16, 16]) from checkpoint, the shape in current model is torch.Size([36, 36]).\n",
            "size mismatch for levels.2.blocks.4.hat_attn.pos_emb_funct.relative_bias: copying a param with shape torch.Size([1, 8, 16, 16]) from checkpoint, the shape in current model is torch.Size([1, 8, 36, 36]).\n",
            "size mismatch for levels.2.blocks.4.hat_pos_embed.relative_bias: copying a param with shape torch.Size([1, 16, 256]) from checkpoint, the shape in current model is torch.Size([1, 36, 256]).\n",
            "size mismatch for levels.2.blocks.5.pos_embed.relative_bias: copying a param with shape torch.Size([1, 49, 256]) from checkpoint, the shape in current model is torch.Size([1, 144, 256]).\n",
            "size mismatch for levels.2.blocks.5.attn.pos_emb_funct.relative_coords_table: copying a param with shape torch.Size([1, 13, 13, 2]) from checkpoint, the shape in current model is torch.Size([1, 23, 23, 2]).\n",
            "size mismatch for levels.2.blocks.5.attn.pos_emb_funct.relative_position_index: copying a param with shape torch.Size([49, 49]) from checkpoint, the shape in current model is torch.Size([144, 144]).\n",
            "size mismatch for levels.2.blocks.5.attn.pos_emb_funct.relative_bias: copying a param with shape torch.Size([1, 8, 53, 53]) from checkpoint, the shape in current model is torch.Size([1, 8, 148, 148]).\n",
            "size mismatch for levels.2.blocks.5.hat_attn.pos_emb_funct.relative_coords_table: copying a param with shape torch.Size([1, 7, 7, 2]) from checkpoint, the shape in current model is torch.Size([1, 11, 11, 2]).\n",
            "size mismatch for levels.2.blocks.5.hat_attn.pos_emb_funct.relative_position_index: copying a param with shape torch.Size([16, 16]) from checkpoint, the shape in current model is torch.Size([36, 36]).\n",
            "size mismatch for levels.2.blocks.5.hat_attn.pos_emb_funct.relative_bias: copying a param with shape torch.Size([1, 8, 16, 16]) from checkpoint, the shape in current model is torch.Size([1, 8, 36, 36]).\n",
            "size mismatch for levels.2.blocks.5.hat_pos_embed.relative_bias: copying a param with shape torch.Size([1, 16, 256]) from checkpoint, the shape in current model is torch.Size([1, 36, 256]).\n",
            "size mismatch for levels.3.blocks.0.pos_embed.relative_bias: copying a param with shape torch.Size([1, 49, 512]) from checkpoint, the shape in current model is torch.Size([1, 36, 512]).\n",
            "size mismatch for levels.3.blocks.0.attn.pos_emb_funct.relative_coords_table: copying a param with shape torch.Size([1, 13, 13, 2]) from checkpoint, the shape in current model is torch.Size([1, 11, 11, 2]).\n",
            "size mismatch for levels.3.blocks.0.attn.pos_emb_funct.relative_position_index: copying a param with shape torch.Size([49, 49]) from checkpoint, the shape in current model is torch.Size([36, 36]).\n",
            "size mismatch for levels.3.blocks.0.attn.pos_emb_funct.relative_bias: copying a param with shape torch.Size([1, 16, 49, 49]) from checkpoint, the shape in current model is torch.Size([1, 16, 36, 36]).\n",
            "size mismatch for levels.3.blocks.1.pos_embed.relative_bias: copying a param with shape torch.Size([1, 49, 512]) from checkpoint, the shape in current model is torch.Size([1, 36, 512]).\n",
            "size mismatch for levels.3.blocks.1.attn.pos_emb_funct.relative_coords_table: copying a param with shape torch.Size([1, 13, 13, 2]) from checkpoint, the shape in current model is torch.Size([1, 11, 11, 2]).\n",
            "size mismatch for levels.3.blocks.1.attn.pos_emb_funct.relative_position_index: copying a param with shape torch.Size([49, 49]) from checkpoint, the shape in current model is torch.Size([36, 36]).\n",
            "size mismatch for levels.3.blocks.1.attn.pos_emb_funct.relative_bias: copying a param with shape torch.Size([1, 16, 49, 49]) from checkpoint, the shape in current model is torch.Size([1, 16, 36, 36]).\n",
            "size mismatch for levels.3.blocks.2.pos_embed.relative_bias: copying a param with shape torch.Size([1, 49, 512]) from checkpoint, the shape in current model is torch.Size([1, 36, 512]).\n",
            "size mismatch for levels.3.blocks.2.attn.pos_emb_funct.relative_coords_table: copying a param with shape torch.Size([1, 13, 13, 2]) from checkpoint, the shape in current model is torch.Size([1, 11, 11, 2]).\n",
            "size mismatch for levels.3.blocks.2.attn.pos_emb_funct.relative_position_index: copying a param with shape torch.Size([49, 49]) from checkpoint, the shape in current model is torch.Size([36, 36]).\n",
            "size mismatch for levels.3.blocks.2.attn.pos_emb_funct.relative_bias: copying a param with shape torch.Size([1, 16, 49, 49]) from checkpoint, the shape in current model is torch.Size([1, 16, 36, 36]).\n",
            "size mismatch for levels.3.blocks.3.pos_embed.relative_bias: copying a param with shape torch.Size([1, 49, 512]) from checkpoint, the shape in current model is torch.Size([1, 36, 512]).\n",
            "size mismatch for levels.3.blocks.3.attn.pos_emb_funct.relative_coords_table: copying a param with shape torch.Size([1, 13, 13, 2]) from checkpoint, the shape in current model is torch.Size([1, 11, 11, 2]).\n",
            "size mismatch for levels.3.blocks.3.attn.pos_emb_funct.relative_position_index: copying a param with shape torch.Size([49, 49]) from checkpoint, the shape in current model is torch.Size([36, 36]).\n",
            "size mismatch for levels.3.blocks.3.attn.pos_emb_funct.relative_bias: copying a param with shape torch.Size([1, 16, 49, 49]) from checkpoint, the shape in current model is torch.Size([1, 16, 36, 36]).\n",
            "size mismatch for levels.3.blocks.4.pos_embed.relative_bias: copying a param with shape torch.Size([1, 49, 512]) from checkpoint, the shape in current model is torch.Size([1, 36, 512]).\n",
            "size mismatch for levels.3.blocks.4.attn.pos_emb_funct.relative_coords_table: copying a param with shape torch.Size([1, 13, 13, 2]) from checkpoint, the shape in current model is torch.Size([1, 11, 11, 2]).\n",
            "size mismatch for levels.3.blocks.4.attn.pos_emb_funct.relative_position_index: copying a param with shape torch.Size([49, 49]) from checkpoint, the shape in current model is torch.Size([36, 36]).\n",
            "size mismatch for levels.3.blocks.4.attn.pos_emb_funct.relative_bias: copying a param with shape torch.Size([1, 16, 49, 49]) from checkpoint, the shape in current model is torch.Size([1, 16, 36, 36]).\n"
          ]
        }
      ]
    },
    {
      "cell_type": "code",
      "source": [],
      "metadata": {
        "id": "wJVbPZYC3LCG"
      },
      "execution_count": null,
      "outputs": []
    }
  ]
}
